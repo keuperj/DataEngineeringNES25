{
 "cells": [
  {
   "cell_type": "markdown",
   "metadata": {},
   "source": [
    "# Assignment: NY Taxi Fare Prediction with DASK\n",
    "\n",
    "* Note: see [NY Taxi Usecase Notebook](https://colab.research.google.com/github/keuperj/DataEngineering22/blob/main/week_8/UseCase_NY_Taxi.ipynb) for an discription of a non-parallel solution\n",
    "\n",
    "* NY Taxi Fare Prediction Task + Data: https://www.kaggle.com/c/new-york-city-taxi-fare-prediction/overview"
   ]
  },
  {
   "cell_type": "code",
   "execution_count": 1,
   "metadata": {},
   "outputs": [
    {
     "name": "stdout",
     "output_type": "stream",
     "text": [
      "Cloning into 'DATA'...\n",
      "remote: Enumerating objects: 101, done.\u001b[K\n",
      "remote: Counting objects: 100% (14/14), done.\u001b[K\n",
      "remote: Compressing objects: 100% (12/12), done.\u001b[K\n",
      "remote: Total 101 (delta 2), reused 14 (delta 2), pack-reused 87\u001b[K\n",
      "Receiving objects: 100% (101/101), 146.44 MiB | 10.64 MiB/s, done.\n",
      "Resolving deltas: 100% (23/23), done.\n",
      "Checking out files: 100% (69/69), done.\n"
     ]
    }
   ],
   "source": [
    "#in colab, we need to clone the data from the repo\n",
    "!git clone https://github.com/keuperj/DATA.git\n",
    "path='DATA'"
   ]
  },
  {
   "cell_type": "code",
   "execution_count": 7,
   "metadata": {},
   "outputs": [],
   "source": [
    "#read data to Pandas DF\n",
    "import pandas as pd\n",
    "data=pd.read_csv(path+\"/NY_taxi_train_small.csv\")\n",
    "y=data['fare_amount']\n",
    "X=data.drop(['fare_amount'],axis=1)\n"
   ]
  },
  {
   "cell_type": "code",
   "execution_count": 9,
   "metadata": {
    "scrolled": true
   },
   "outputs": [
    {
     "data": {
      "text/html": [
       "<div>\n",
       "<style scoped>\n",
       "    .dataframe tbody tr th:only-of-type {\n",
       "        vertical-align: middle;\n",
       "    }\n",
       "\n",
       "    .dataframe tbody tr th {\n",
       "        vertical-align: top;\n",
       "    }\n",
       "\n",
       "    .dataframe thead th {\n",
       "        text-align: right;\n",
       "    }\n",
       "</style>\n",
       "<table border=\"1\" class=\"dataframe\">\n",
       "  <thead>\n",
       "    <tr style=\"text-align: right;\">\n",
       "      <th></th>\n",
       "      <th>key</th>\n",
       "      <th>pickup_datetime</th>\n",
       "      <th>pickup_longitude</th>\n",
       "      <th>pickup_latitude</th>\n",
       "      <th>dropoff_longitude</th>\n",
       "      <th>dropoff_latitude</th>\n",
       "      <th>passenger_count</th>\n",
       "    </tr>\n",
       "  </thead>\n",
       "  <tbody>\n",
       "    <tr>\n",
       "      <th>0</th>\n",
       "      <td>2014-03-12 17:04:30.0000001</td>\n",
       "      <td>2014-03-12 17:04:30 UTC</td>\n",
       "      <td>-73.956721</td>\n",
       "      <td>40.767081</td>\n",
       "      <td>-73.989080</td>\n",
       "      <td>40.772745</td>\n",
       "      <td>1</td>\n",
       "    </tr>\n",
       "    <tr>\n",
       "      <th>1</th>\n",
       "      <td>2009-04-17 21:59:00.00000044</td>\n",
       "      <td>2009-04-17 21:59:00 UTC</td>\n",
       "      <td>-73.870913</td>\n",
       "      <td>40.773722</td>\n",
       "      <td>-73.996285</td>\n",
       "      <td>40.716018</td>\n",
       "      <td>2</td>\n",
       "    </tr>\n",
       "    <tr>\n",
       "      <th>2</th>\n",
       "      <td>2009-10-06 13:42:00.00000015</td>\n",
       "      <td>2009-10-06 13:42:00 UTC</td>\n",
       "      <td>-73.976258</td>\n",
       "      <td>40.751410</td>\n",
       "      <td>-73.984795</td>\n",
       "      <td>40.751305</td>\n",
       "      <td>3</td>\n",
       "    </tr>\n",
       "    <tr>\n",
       "      <th>3</th>\n",
       "      <td>2012-05-02 21:38:39.0000004</td>\n",
       "      <td>2012-05-02 21:38:39 UTC</td>\n",
       "      <td>-73.977940</td>\n",
       "      <td>40.752586</td>\n",
       "      <td>-73.976525</td>\n",
       "      <td>40.667005</td>\n",
       "      <td>1</td>\n",
       "    </tr>\n",
       "    <tr>\n",
       "      <th>4</th>\n",
       "      <td>2011-04-21 18:11:13.0000001</td>\n",
       "      <td>2011-04-21 18:11:13 UTC</td>\n",
       "      <td>-73.988390</td>\n",
       "      <td>40.723152</td>\n",
       "      <td>-73.984367</td>\n",
       "      <td>40.736301</td>\n",
       "      <td>1</td>\n",
       "    </tr>\n",
       "  </tbody>\n",
       "</table>\n",
       "</div>"
      ],
      "text/plain": [
       "                            key          pickup_datetime  pickup_longitude  \\\n",
       "0   2014-03-12 17:04:30.0000001  2014-03-12 17:04:30 UTC        -73.956721   \n",
       "1  2009-04-17 21:59:00.00000044  2009-04-17 21:59:00 UTC        -73.870913   \n",
       "2  2009-10-06 13:42:00.00000015  2009-10-06 13:42:00 UTC        -73.976258   \n",
       "3   2012-05-02 21:38:39.0000004  2012-05-02 21:38:39 UTC        -73.977940   \n",
       "4   2011-04-21 18:11:13.0000001  2011-04-21 18:11:13 UTC        -73.988390   \n",
       "\n",
       "   pickup_latitude  dropoff_longitude  dropoff_latitude  passenger_count  \n",
       "0        40.767081         -73.989080         40.772745                1  \n",
       "1        40.773722         -73.996285         40.716018                2  \n",
       "2        40.751410         -73.984795         40.751305                3  \n",
       "3        40.752586         -73.976525         40.667005                1  \n",
       "4        40.723152         -73.984367         40.736301                1  "
      ]
     },
     "execution_count": 9,
     "metadata": {},
     "output_type": "execute_result"
    }
   ],
   "source": [
    "X.head()"
   ]
  },
  {
   "cell_type": "code",
   "execution_count": 10,
   "metadata": {},
   "outputs": [
    {
     "data": {
      "text/plain": [
       "0    11.0\n",
       "1    23.7\n",
       "2     5.7\n",
       "3    28.1\n",
       "4     5.7\n",
       "Name: fare_amount, dtype: float64"
      ]
     },
     "execution_count": 10,
     "metadata": {},
     "output_type": "execute_result"
    }
   ],
   "source": [
    "y.head()"
   ]
  },
  {
   "cell_type": "markdown",
   "metadata": {},
   "source": [
    "## Assignment:\n",
    "use *DASK Dataframes* and *DASK-ML* to \n",
    "* split in train and test data\n",
    "* build a pre-processing,\n",
    "* feature extraction and \n",
    "* prediction pipeline \n",
    "\n",
    "to predict the taxi fares. \n",
    "\n",
    "### Use\n",
    "* local DASK cluster\n",
    "* [DASK DataFrames](https://examples.dask.org/dataframe.html)\n",
    "* [DASK-ML](https://ml.dask.org/)\n",
    "\n",
    "### Hints:\n",
    "* start with a very simple, but working predicten and then enhance the solution with better pre-processing and features"
   ]
  },
  {
   "cell_type": "code",
   "execution_count": null,
   "metadata": {},
   "outputs": [],
   "source": [
    "# install \n",
    "!pip install distributed \"dask[complete]\" dask-ml graphviz --ignore-installed"
   ]
  },
  {
   "cell_type": "code",
   "execution_count": null,
   "metadata": {},
   "outputs": [],
   "source": [
    "# Cluster setup\n",
    "from dask.distributed import Client, LocalCluster\n",
    "cluster = LocalCluster()\n",
    "client = Client(cluster)"
   ]
  },
  {
   "cell_type": "code",
   "execution_count": null,
   "metadata": {},
   "outputs": [],
   "source": [
    "#get client info\n",
    "client"
   ]
  },
  {
   "cell_type": "code",
   "execution_count": null,
   "metadata": {},
   "outputs": [],
   "source": [
    "import dask.dataframe as dd\n",
    "import dask.array as da"
   ]
  }
 ],
 "metadata": {
  "kernelspec": {
   "display_name": "Python 3",
   "language": "python",
   "name": "python3"
  },
  "language_info": {
   "codemirror_mode": {
    "name": "ipython",
    "version": 3
   },
   "file_extension": ".py",
   "mimetype": "text/x-python",
   "name": "python",
   "nbconvert_exporter": "python",
   "pygments_lexer": "ipython3",
   "version": "3.7.6"
  }
 },
 "nbformat": 4,
 "nbformat_minor": 4
}

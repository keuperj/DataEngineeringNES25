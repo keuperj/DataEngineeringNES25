{
  "cells": [
    {
      "cell_type": "markdown",
      "metadata": {
        "id": "MgHClVPfH01I"
      },
      "source": [
        "# Hive\n",
        "We use the *pyHive* lib: https://github.com/dropbox/PyHive \n",
        "\n",
        "## Resources\n",
        "* [HQL cheat sheet](http://hortonworks.com/wp-content/uploads/2016/05/Hortonworks.CheatSheet.SQLtoHive.pdf)\n",
        "* [Hive reference](https://cwiki.apache.org/confluence/display/Hive/LanguageManual)\n",
        "\n",
        "## Install\n",
        "Install *pyHive* via *anaconda*"
      ]
    },
    {
      "cell_type": "code",
      "execution_count": 1,
      "metadata": {
        "id": "HCaNBc_pH01S"
      },
      "outputs": [],
      "source": [
        "!pip install -q condacolab \n",
        "\n"
      ]
    },
    {
      "cell_type": "code",
      "source": [
        "import condacolab \n",
        "condacolab.install() \n",
        "\n"
      ],
      "metadata": {
        "colab": {
          "base_uri": "https://localhost:8080/"
        },
        "id": "hbf_ESW7rYxU",
        "outputId": "c3b83b25-da67-45a9-b0a8-ab9407622629"
      },
      "execution_count": 2,
      "outputs": [
        {
          "output_type": "stream",
          "name": "stdout",
          "text": [
            "⏬ Downloading https://github.com/jaimergp/miniforge/releases/latest/download/Mambaforge-colab-Linux-x86_64.sh...\n",
            "📦 Installing...\n",
            "📌 Adjusting configuration...\n",
            "🩹 Patching environment...\n",
            "⏲ Done in 0:00:31\n",
            "🔁 Restarting kernel...\n"
          ]
        }
      ]
    },
    {
      "cell_type": "code",
      "source": [
        "!conda install -y pyhive sasl"
      ],
      "metadata": {
        "colab": {
          "base_uri": "https://localhost:8080/"
        },
        "id": "yZtda4Pardbi",
        "outputId": "556ff487-684b-4376-d168-379493c8cf0a"
      },
      "execution_count": 3,
      "outputs": [
        {
          "output_type": "stream",
          "name": "stdout",
          "text": [
            "Collecting package metadata (current_repodata.json): - \b\b\\ \b\b| \b\b/ \b\b- \b\b\\ \b\b| \b\b/ \b\b- \b\b\\ \b\b| \b\b/ \b\b- \b\b\\ \b\b| \b\b/ \b\b- \b\b\\ \b\b| \b\b/ \b\b- \b\b\\ \b\b| \b\b/ \b\b- \b\b\\ \b\b| \b\b/ \b\b- \b\b\\ \b\b| \b\b/ \b\b- \b\b\\ \b\b| \b\b/ \b\b- \b\b\\ \b\b| \b\b/ \b\b- \b\b\\ \b\b| \b\b/ \b\b- \b\b\\ \b\b| \b\b/ \b\b- \b\b\\ \b\b| \b\b/ \b\b- \b\b\\ \b\b| \b\b/ \b\b- \b\b\\ \b\b| \b\b/ \b\b- \b\b\\ \b\b| \b\b/ \b\b- \b\b\\ \b\b| \b\b/ \b\b- \b\b\\ \b\b| \b\b/ \b\b- \b\b\\ \b\b| \b\b/ \b\b- \b\b\\ \b\b| \b\b/ \b\b- \b\b\\ \b\b| \b\b/ \b\b- \b\b\\ \b\b| \b\b/ \b\bdone\n",
            "Solving environment: \\ \b\b| \b\b/ \b\b- \b\b\\ \b\b| \b\b/ \b\b- \b\b\\ \b\b| \b\b/ \b\b- \b\b\\ \b\b| \b\b/ \b\b- \b\b\\ \b\b| \b\b/ \b\b- \b\b\\ \b\b| \b\b/ \b\b- \b\b\\ \b\b| \b\b/ \b\b- \b\bdone\n",
            "\n",
            "## Package Plan ##\n",
            "\n",
            "  environment location: /usr/local\n",
            "\n",
            "  added / updated specs:\n",
            "    - pyhive\n",
            "    - sasl\n",
            "\n",
            "\n",
            "The following packages will be downloaded:\n",
            "\n",
            "    package                    |            build\n",
            "    ---------------------------|-----------------\n",
            "    ca-certificates-2021.10.8  |       ha878542_0         139 KB  conda-forge\n",
            "    certifi-2021.10.8          |   py37h89c1867_2         145 KB  conda-forge\n",
            "    conda-4.12.0               |   py37h89c1867_0         1.0 MB  conda-forge\n",
            "    cyrus-sasl-2.1.27          |       h3274739_1         224 KB  conda-forge\n",
            "    future-0.18.2              |   py37h89c1867_5         713 KB  conda-forge\n",
            "    libgcc-ng-11.2.0           |      h1d223b6_16         902 KB  conda-forge\n",
            "    libgomp-11.2.0             |      h1d223b6_16         428 KB  conda-forge\n",
            "    libntlm-1.4                |    h7f98852_1002          32 KB  conda-forge\n",
            "    openssl-1.1.1n             |       h166bdaf_0         2.1 MB  conda-forge\n",
            "    pure-sasl-0.6.2            |     pyhd8ed1ab_0          13 KB  conda-forge\n",
            "    pyhive-0.6.5               |     pyhd8ed1ab_0          40 KB  conda-forge\n",
            "    python-dateutil-2.8.2      |     pyhd8ed1ab_0         240 KB  conda-forge\n",
            "    python_abi-3.7             |          2_cp37m           4 KB  conda-forge\n",
            "    sasl-0.3.1                 |   py37hcd2ae1e_0          74 KB  conda-forge\n",
            "    sqlalchemy-1.3.24          |   py37h540881e_1         1.8 MB  conda-forge\n",
            "    thrift-0.13.0              |   py37hcd2ae1e_2         120 KB  conda-forge\n",
            "    thrift_sasl-0.4.3          |     pyhd8ed1ab_1          12 KB  conda-forge\n",
            "    ------------------------------------------------------------\n",
            "                                           Total:         8.0 MB\n",
            "\n",
            "The following NEW packages will be INSTALLED:\n",
            "\n",
            "  cyrus-sasl         conda-forge/linux-64::cyrus-sasl-2.1.27-h3274739_1\n",
            "  future             conda-forge/linux-64::future-0.18.2-py37h89c1867_5\n",
            "  libntlm            conda-forge/linux-64::libntlm-1.4-h7f98852_1002\n",
            "  pure-sasl          conda-forge/noarch::pure-sasl-0.6.2-pyhd8ed1ab_0\n",
            "  pyhive             conda-forge/noarch::pyhive-0.6.5-pyhd8ed1ab_0\n",
            "  python-dateutil    conda-forge/noarch::python-dateutil-2.8.2-pyhd8ed1ab_0\n",
            "  sasl               conda-forge/linux-64::sasl-0.3.1-py37hcd2ae1e_0\n",
            "  sqlalchemy         conda-forge/linux-64::sqlalchemy-1.3.24-py37h540881e_1\n",
            "  thrift             conda-forge/linux-64::thrift-0.13.0-py37hcd2ae1e_2\n",
            "  thrift_sasl        conda-forge/noarch::thrift_sasl-0.4.3-pyhd8ed1ab_1\n",
            "\n",
            "The following packages will be UPDATED:\n",
            "\n",
            "  ca-certificates                      2020.12.5-ha878542_0 --> 2021.10.8-ha878542_0\n",
            "  certifi                          2020.12.5-py37h89c1867_1 --> 2021.10.8-py37h89c1867_2\n",
            "  conda                                4.9.2-py37h89c1867_0 --> 4.12.0-py37h89c1867_0\n",
            "  libgcc-ng                               9.3.0-h2828fa1_18 --> 11.2.0-h1d223b6_16\n",
            "  libgomp                                 9.3.0-h2828fa1_18 --> 11.2.0-h1d223b6_16\n",
            "  openssl                                 1.1.1j-h7f98852_0 --> 1.1.1n-h166bdaf_0\n",
            "  python_abi                                    3.7-1_cp37m --> 3.7-2_cp37m\n",
            "\n",
            "\n",
            "\n",
            "Downloading and Extracting Packages\n",
            "conda-4.12.0         | 1.0 MB    | : 100% 1.0/1 [00:00<00:00,  2.82it/s]\n",
            "python-dateutil-2.8. | 240 KB    | : 100% 1.0/1 [00:00<00:00, 14.72it/s]\n",
            "libgcc-ng-11.2.0     | 902 KB    | : 100% 1.0/1 [00:00<00:00,  5.99it/s]\n",
            "libgomp-11.2.0       | 428 KB    | : 100% 1.0/1 [00:00<00:00, 10.09it/s]\n",
            "ca-certificates-2021 | 139 KB    | : 100% 1.0/1 [00:00<00:00, 20.31it/s]\n",
            "openssl-1.1.1n       | 2.1 MB    | : 100% 1.0/1 [00:00<00:00,  2.75it/s]\n",
            "pure-sasl-0.6.2      | 13 KB     | : 100% 1.0/1 [00:00<00:00, 28.16it/s]\n",
            "python_abi-3.7       | 4 KB      | : 100% 1.0/1 [00:00<00:00, 28.15it/s]\n",
            "libntlm-1.4          | 32 KB     | : 100% 1.0/1 [00:00<00:00, 26.57it/s]\n",
            "sqlalchemy-1.3.24    | 1.8 MB    | : 100% 1.0/1 [00:00<00:00,  2.04it/s]               \n",
            "cyrus-sasl-2.1.27    | 224 KB    | : 100% 1.0/1 [00:00<00:00,  9.59it/s]\n",
            "certifi-2021.10.8    | 145 KB    | : 100% 1.0/1 [00:00<00:00, 17.65it/s]\n",
            "thrift-0.13.0        | 120 KB    | : 100% 1.0/1 [00:00<00:00,  9.09it/s]\n",
            "future-0.18.2        | 713 KB    | : 100% 1.0/1 [00:00<00:00,  4.91it/s]\n",
            "pyhive-0.6.5         | 40 KB     | : 100% 1.0/1 [00:00<00:00, 15.16it/s]\n",
            "sasl-0.3.1           | 74 KB     | : 100% 1.0/1 [00:00<00:00, 13.35it/s]\n",
            "thrift_sasl-0.4.3    | 12 KB     | : 100% 1.0/1 [00:00<00:00, 24.11it/s]\n",
            "Preparing transaction: | \b\bdone\n",
            "Verifying transaction: - \b\b\\ \b\b| \b\bdone\n",
            "Executing transaction: - \b\b\\ \b\b| \b\b/ \b\b- \b\b\\ \b\b| \b\b/ \b\bdone\n"
          ]
        }
      ]
    },
    {
      "cell_type": "code",
      "execution_count": 1,
      "metadata": {
        "id": "AoBWUZAVH01U"
      },
      "outputs": [],
      "source": [
        "#import libs\n",
        "from pyhive import hive\n",
        "from TCLIService.ttypes import TOperationState"
      ]
    },
    {
      "cell_type": "code",
      "execution_count": 2,
      "metadata": {
        "id": "Xei9sSNAH01V"
      },
      "outputs": [],
      "source": [
        "# try to connect\n",
        "server=\"ec2-54-155-223-96.eu-west-1.compute.amazonaws.com\"\n",
        "cursor = hive.connect(server).cursor()"
      ]
    },
    {
      "cell_type": "code",
      "execution_count": 3,
      "metadata": {
        "id": "PBzVSTQEH01V"
      },
      "outputs": [],
      "source": [
        "#show our databases\n",
        "cursor.execute('show databases')"
      ]
    },
    {
      "cell_type": "code",
      "execution_count": 4,
      "metadata": {
        "id": "oblfzvS6H01W",
        "outputId": "119f0dcd-0481-4478-c444-49a7a779b861",
        "colab": {
          "base_uri": "https://localhost:8080/"
        }
      },
      "outputs": [
        {
          "output_type": "execute_result",
          "data": {
            "text/plain": [
              "[('default',)]"
            ]
          },
          "metadata": {},
          "execution_count": 4
        }
      ],
      "source": [
        "#get data from execution\n",
        "cursor.fetchall()"
      ]
    },
    {
      "cell_type": "code",
      "execution_count": 5,
      "metadata": {
        "id": "3HOpreHyH01Y"
      },
      "outputs": [],
      "source": [
        "#use default db\n",
        "cursor.execute('use default')"
      ]
    },
    {
      "cell_type": "code",
      "execution_count": 6,
      "metadata": {
        "id": "sfP3VHwyH01a"
      },
      "outputs": [],
      "source": [
        "#show tables in db\n",
        "cursor.execute('show tables')"
      ]
    },
    {
      "cell_type": "code",
      "execution_count": 7,
      "metadata": {
        "id": "Q93V1EWLH01b",
        "outputId": "eac2ba2a-590a-441d-d620-ae9935542a0b",
        "colab": {
          "base_uri": "https://localhost:8080/"
        }
      },
      "outputs": [
        {
          "output_type": "execute_result",
          "data": {
            "text/plain": [
              "[('employee',), ('salary',)]"
            ]
          },
          "metadata": {},
          "execution_count": 7
        }
      ],
      "source": [
        "cursor.fetchall()"
      ]
    },
    {
      "cell_type": "code",
      "execution_count": 8,
      "metadata": {
        "id": "AGw0RCptH01c",
        "outputId": "5cd18651-98f5-475d-dab9-b33b0654d328",
        "colab": {
          "base_uri": "https://localhost:8080/"
        }
      },
      "outputs": [
        {
          "output_type": "execute_result",
          "data": {
            "text/plain": [
              "[('employee_id', 'int', ''),\n",
              " ('birthday', 'date', ''),\n",
              " ('first_name', 'string', ''),\n",
              " ('family_name', 'string', ''),\n",
              " ('gender', 'char(1)', ''),\n",
              " ('work_day', 'date', '')]"
            ]
          },
          "metadata": {},
          "execution_count": 8
        }
      ],
      "source": [
        "# get table layout\n",
        "cursor.execute('describe employee')\n",
        "cursor.fetchall()"
      ]
    },
    {
      "cell_type": "code",
      "execution_count": 9,
      "metadata": {
        "id": "lVrk3FeAH01d"
      },
      "outputs": [],
      "source": [
        "#select data\n",
        "cursor.execute('select * from employee')"
      ]
    },
    {
      "cell_type": "code",
      "execution_count": 10,
      "metadata": {
        "id": "FfrzcTSoH01e"
      },
      "outputs": [],
      "source": [
        "#get daata from selction\n",
        "employee = cursor.fetchall()"
      ]
    },
    {
      "cell_type": "code",
      "execution_count": 11,
      "metadata": {
        "id": "9jmXC22-H01f",
        "outputId": "1c35ebf2-c1f8-44bb-a497-80129ff99a5e",
        "colab": {
          "base_uri": "https://localhost:8080/"
        }
      },
      "outputs": [
        {
          "output_type": "execute_result",
          "data": {
            "text/plain": [
              "[(10001, None, \"'Georgi'\", \"'Facello'\", \"'\", None),\n",
              " (10002, None, \"'Bezalel'\", \"'Simmel'\", \"'\", None),\n",
              " (10003, None, \"'Parto'\", \"'Bamford'\", \"'\", None),\n",
              " (10004, None, \"'Chirstian'\", \"'Koblick'\", \"'\", None),\n",
              " (10005, None, \"'Kyoichi'\", \"'Maliniak'\", \"'\", None),\n",
              " (10006, None, \"'Anneke'\", \"'Preusig'\", \"'\", None),\n",
              " (10007, None, \"'Tzvetan'\", \"'Zielinski'\", \"'\", None),\n",
              " (10008, None, \"'Saniya'\", \"'Kalloufi'\", \"'\", None),\n",
              " (10009, None, \"'Sumant'\", \"'Peac'\", \"'\", None),\n",
              " (10010, None, \"'Duangkaew'\", \"'Piveteau'\", \"'\", None)]"
            ]
          },
          "metadata": {},
          "execution_count": 11
        }
      ],
      "source": [
        "#have a look\n",
        "employee[:10]"
      ]
    },
    {
      "cell_type": "code",
      "execution_count": 12,
      "metadata": {
        "id": "EDcDMjh3H01f",
        "outputId": "fe9aa580-67fc-4138-fcd0-064701db854c",
        "colab": {
          "base_uri": "https://localhost:8080/"
        }
      },
      "outputs": [
        {
          "output_type": "execute_result",
          "data": {
            "text/plain": [
              "[('employee_id', 'int', ''),\n",
              " ('salary', 'int', ''),\n",
              " ('start_date', 'date', ''),\n",
              " ('end_date', 'date', '')]"
            ]
          },
          "metadata": {},
          "execution_count": 12
        }
      ],
      "source": [
        "# get salary table layout\n",
        "cursor.execute('describe salary')\n",
        "cursor.fetchall()"
      ]
    },
    {
      "cell_type": "code",
      "execution_count": 13,
      "metadata": {
        "id": "N3R5nE9ZH01g"
      },
      "outputs": [],
      "source": [
        "#select data\n",
        "cursor.execute('select * from salary')"
      ]
    },
    {
      "cell_type": "code",
      "execution_count": 14,
      "metadata": {
        "id": "OX9pna1WH01h"
      },
      "outputs": [],
      "source": [
        "#get daata from selction\n",
        "salary = cursor.fetchall()"
      ]
    },
    {
      "cell_type": "code",
      "execution_count": 15,
      "metadata": {
        "id": "sPyV2OsSH01h",
        "colab": {
          "base_uri": "https://localhost:8080/"
        },
        "outputId": "053fbd15-cfe2-456c-ee37-0b0c86a98a0d"
      },
      "outputs": [
        {
          "output_type": "execute_result",
          "data": {
            "text/plain": [
              "[(10001, 60117, None, None),\n",
              " (10001, 62102, None, None),\n",
              " (10001, 66074, None, None),\n",
              " (10001, 66596, None, None),\n",
              " (10001, 66961, None, None),\n",
              " (10001, 71046, None, None),\n",
              " (10001, 74333, None, None),\n",
              " (10001, 75286, None, None),\n",
              " (10001, 75994, None, None),\n",
              " (10001, 76884, None, None)]"
            ]
          },
          "metadata": {},
          "execution_count": 15
        }
      ],
      "source": [
        "salary[:10]"
      ]
    },
    {
      "cell_type": "markdown",
      "metadata": {
        "id": "Cr0ty4gsH01i"
      },
      "source": [
        "## Ex 1\n",
        "Get employees sorted by ``family_name``. Return first 10 entries."
      ]
    },
    {
      "cell_type": "code",
      "execution_count": 18,
      "metadata": {
        "id": "5plL57fKH01i"
      },
      "outputs": [],
      "source": [
        "cursor.execute(\"SELECT * from employee order by family_name\")"
      ]
    },
    {
      "cell_type": "code",
      "execution_count": 19,
      "metadata": {
        "id": "f5AbUIxfH01j",
        "outputId": "281aad20-efbd-4be4-bca1-691bf76ab69b",
        "colab": {
          "base_uri": "https://localhost:8080/"
        }
      },
      "outputs": [
        {
          "output_type": "execute_result",
          "data": {
            "text/plain": [
              "[(55985, None, \"'Ung'\", \"'Aamodt'\", \"'\", None),\n",
              " (484934, None, \"'Magy'\", \"'Aamodt'\", \"'\", None),\n",
              " (481972, None, \"'Bikash'\", \"'Aamodt'\", \"'\", None),\n",
              " (276963, None, \"'Maik'\", \"'Aamodt'\", \"'\", None),\n",
              " (82381, None, \"'Weiyi'\", \"'Aamodt'\", \"'\", None),\n",
              " (487598, None, \"'Alexius'\", \"'Aamodt'\", \"'\", None),\n",
              " (266651, None, \"'Aleksander'\", \"'Aamodt'\", \"'\", None),\n",
              " (244716, None, \"'Subhash'\", \"'Aamodt'\", \"'\", None),\n",
              " (463875, None, \"'Tonny'\", \"'Aamodt'\", \"'\", None),\n",
              " (249077, None, \"'Uinam'\", \"'Aamodt'\", \"'\", None)]"
            ]
          },
          "metadata": {},
          "execution_count": 19
        }
      ],
      "source": [
        "cursor.fetchall()[:10]"
      ]
    },
    {
      "cell_type": "markdown",
      "metadata": {
        "id": "A5YKLzYnH01j"
      },
      "source": [
        "## Ex 2\n",
        "Get ``family_name`` and ``salary`` of employees sorted by salary. Return first 100 entries. Hint: you need to join both tables..."
      ]
    },
    {
      "cell_type": "code",
      "execution_count": 20,
      "metadata": {
        "id": "sqGnrDiHH01k"
      },
      "outputs": [],
      "source": [
        "cursor.execute(\"SELECT family_name, salary from employee,salary where employee.employee_id=salary.employee_id order by salary\")\n",
        "data=cursor.fetchall()"
      ]
    },
    {
      "cell_type": "code",
      "source": [
        "data[:100]"
      ],
      "metadata": {
        "id": "qhW7ZrUA5OTk",
        "outputId": "10408631-13fc-4750-a98b-6c25811ed087",
        "colab": {
          "base_uri": "https://localhost:8080/"
        }
      },
      "execution_count": 22,
      "outputs": [
        {
          "output_type": "execute_result",
          "data": {
            "text/plain": [
              "[(\"'Unno'\", 38735),\n",
              " (\"'Narwekar'\", 38812),\n",
              " (\"'Langford'\", 38836),\n",
              " (\"'Biran'\", 38850),\n",
              " (\"'Syang'\", 38851),\n",
              " (\"'Unno'\", 38859),\n",
              " (\"'Reinhard'\", 38874),\n",
              " (\"'Copas'\", 38888),\n",
              " (\"'Perri'\", 38928),\n",
              " (\"'Rosis'\", 39006),\n",
              " (\"'Narwekar'\", 39012),\n",
              " (\"'Cooke'\", 39020),\n",
              " (\"'Kushnir'\", 39035),\n",
              " (\"'Limongiello'\", 39036),\n",
              " (\"'Hoogerwoord'\", 39046),\n",
              " (\"'Schauser'\", 39050),\n",
              " (\"'Onuegbe'\", 39054),\n",
              " (\"'Langford'\", 39060),\n",
              " (\"'Zhang'\", 39062),\n",
              " (\"'Kushnir'\", 39063),\n",
              " (\"'Backhouse'\", 39066),\n",
              " (\"'Narwekar'\", 39069),\n",
              " (\"'Bail'\", 39072),\n",
              " (\"'Butner'\", 39089),\n",
              " (\"'Navazio'\", 39098),\n",
              " (\"'Fritzsche'\", 39105),\n",
              " (\"'Cincotta'\", 39117),\n",
              " (\"'Seiwald'\", 39119),\n",
              " (\"'Cesareni'\", 39120),\n",
              " (\"'Erdmenger'\", 39124),\n",
              " (\"'Gomatam'\", 39127),\n",
              " (\"'Tomescu'\", 39128),\n",
              " (\"'Mamelak'\", 39128),\n",
              " (\"'Reeken'\", 39129),\n",
              " (\"'Ozeki'\", 39142),\n",
              " (\"'Masamoto'\", 39143),\n",
              " (\"'Brizzi'\", 39143),\n",
              " (\"'McFarlin'\", 39146),\n",
              " (\"'Peac'\", 39146),\n",
              " (\"'Uchoa'\", 39161),\n",
              " (\"'Harbusch'\", 39166),\n",
              " (\"'Griswold'\", 39166),\n",
              " (\"'Ambroszkiewicz'\", 39171),\n",
              " (\"'Zuberek'\", 39177),\n",
              " (\"'Dulin'\", 39182),\n",
              " (\"'Gruenwald'\", 39183),\n",
              " (\"'Marrakchi'\", 39186),\n",
              " (\"'Broder'\", 39187),\n",
              " (\"'Ernst'\", 39192),\n",
              " (\"'Yoshizawa'\", 39198),\n",
              " (\"'Anick'\", 39201),\n",
              " (\"'Spell'\", 39205),\n",
              " (\"'Garigliano'\", 39212),\n",
              " (\"'Jullig'\", 39216),\n",
              " (\"'Hegner'\", 39217),\n",
              " (\"'Copas'\", 39221),\n",
              " (\"'Zirintsis'\", 39222),\n",
              " (\"'Kusakabe'\", 39225),\n",
              " (\"'Pelc'\", 39229),\n",
              " (\"'Biran'\", 39230),\n",
              " (\"'Sankaranarayanan'\", 39236),\n",
              " (\"'Farrel'\", 39236),\n",
              " (\"'Beutelspacher'\", 39239),\n",
              " (\"'Schaft'\", 39246),\n",
              " (\"'Basawa'\", 39250),\n",
              " (\"'Pavlopoulou'\", 39251),\n",
              " (\"'Chimia'\", 39253),\n",
              " (\"'Luef'\", 39254),\n",
              " (\"'Schieder'\", 39256),\n",
              " (\"'Erez'\", 39257),\n",
              " (\"'Cincotta'\", 39259),\n",
              " (\"'Birsak'\", 39260),\n",
              " (\"'Lindqvist'\", 39264),\n",
              " (\"'Benzmuller'\", 39265),\n",
              " (\"'Erni'\", 39266),\n",
              " (\"'Unni'\", 39267),\n",
              " (\"'Syang'\", 39270),\n",
              " (\"'Henders'\", 39271),\n",
              " (\"'Narwekar'\", 39273),\n",
              " (\"'Ashish'\", 39274),\n",
              " (\"'Reinhard'\", 39275),\n",
              " (\"'Soicher'\", 39279),\n",
              " (\"'Peot'\", 39280),\n",
              " (\"'Lamparter'\", 39281),\n",
              " (\"'Skrikant'\", 39282),\n",
              " (\"'Mullainathan'\", 39283),\n",
              " (\"'Turnbull'\", 39285),\n",
              " (\"'Ramalingam'\", 39289),\n",
              " (\"'Roison'\", 39291),\n",
              " (\"'Skrikant'\", 39294),\n",
              " (\"'Verhoeff'\", 39295),\n",
              " (\"'Swiss'\", 39300),\n",
              " (\"'Pehl'\", 39301),\n",
              " (\"'Douceur'\", 39301),\n",
              " (\"'Langford'\", 39303),\n",
              " (\"'Seiwald'\", 39307),\n",
              " (\"'Chachaty'\", 39313),\n",
              " (\"'Brookner'\", 39314),\n",
              " (\"'Dechter'\", 39319),\n",
              " (\"'Stifter'\", 39321)]"
            ]
          },
          "metadata": {},
          "execution_count": 22
        }
      ]
    },
    {
      "cell_type": "markdown",
      "metadata": {
        "id": "d67mWDujH01k"
      },
      "source": [
        "## Ex 3\n",
        "Get the average salary by gender. Hint: use Group by"
      ]
    },
    {
      "cell_type": "code",
      "execution_count": 23,
      "metadata": {
        "id": "aYZjnau0H01l",
        "outputId": "cfe90815-4bb9-4d7c-d0dd-1474c46e727a",
        "colab": {
          "base_uri": "https://localhost:8080/"
        }
      },
      "outputs": [
        {
          "output_type": "execute_result",
          "data": {
            "text/plain": [
              "[(\"'F'\", 63760.08469915328), (\"'M'\", 63758.86649934126)]"
            ]
          },
          "metadata": {},
          "execution_count": 23
        }
      ],
      "source": [
        "cursor.execute(\"SELECT employee2.gender,avg(salary) from employee2,salary where employee2.employee_id=salary.employee_id group by employee2.gender\")\n",
        "cursor.fetchall()"
      ]
    },
    {
      "cell_type": "code",
      "execution_count": null,
      "metadata": {
        "id": "OYp78F7AH01l"
      },
      "outputs": [],
      "source": [
        ""
      ]
    }
  ],
  "metadata": {
    "kernelspec": {
      "display_name": "Python 3",
      "language": "python",
      "name": "python3"
    },
    "language_info": {
      "codemirror_mode": {
        "name": "ipython",
        "version": 3
      },
      "file_extension": ".py",
      "mimetype": "text/x-python",
      "name": "python",
      "nbconvert_exporter": "python",
      "pygments_lexer": "ipython3",
      "version": "3.7.6"
    },
    "colab": {
      "name": "Assignment_Hive.ipynb",
      "provenance": []
    },
    "accelerator": "GPU"
  },
  "nbformat": 4,
  "nbformat_minor": 0
}
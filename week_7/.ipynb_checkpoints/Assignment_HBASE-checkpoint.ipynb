{
 "cells": [
  {
   "cell_type": "markdown",
   "metadata": {},
   "source": [
    "# HBASE\n",
    "We use the *HappyBase* lib: https://happybase.readthedocs.io/en/latest/installation.html"
   ]
  },
  {
   "cell_type": "code",
   "execution_count": 2,
   "metadata": {},
   "outputs": [
    {
     "name": "stdout",
     "output_type": "stream",
     "text": [
      "Collecting package metadata (repodata.json): done\n",
      "Solving environment: done\n",
      "\n",
      "## Package Plan ##\n",
      "\n",
      "  environment location: /home/keuper/anaconda3\n",
      "\n",
      "  added / updated specs:\n",
      "    - happybase\n",
      "\n",
      "\n",
      "The following packages will be downloaded:\n",
      "\n",
      "    package                    |            build\n",
      "    ---------------------------|-----------------\n",
      "    happybase-1.2.0            |             py_0          26 KB  conda-forge\n",
      "    thriftpy2-0.4.11           |   py37h8f50634_0         368 KB  conda-forge\n",
      "    ------------------------------------------------------------\n",
      "                                           Total:         394 KB\n",
      "\n",
      "The following NEW packages will be INSTALLED:\n",
      "\n",
      "  happybase          conda-forge/noarch::happybase-1.2.0-py_0\n",
      "  thriftpy2          conda-forge/linux-64::thriftpy2-0.4.11-py37h8f50634_0\n",
      "\n",
      "The following packages will be UPDATED:\n",
      "\n",
      "  ca-certificates     pkgs/main::ca-certificates-2020.1.1-0 --> conda-forge::ca-certificates-2020.4.5.2-hecda079_0\n",
      "  conda                       pkgs/main::conda-4.8.3-py37_0 --> conda-forge::conda-4.8.3-py37hc8dfbb8_1\n",
      "\n",
      "The following packages will be SUPERSEDED by a higher-priority channel:\n",
      "\n",
      "  certifi              pkgs/main::certifi-2020.4.5.2-py37_0 --> conda-forge::certifi-2020.4.5.2-py37hc8dfbb8_0\n",
      "  openssl              pkgs/main::openssl-1.1.1g-h7b6447c_0 --> conda-forge::openssl-1.1.1g-h516909a_0\n",
      "\n",
      "\n",
      "\n",
      "Downloading and Extracting Packages\n",
      "happybase-1.2.0      | 26 KB     | ##################################### | 100% \n",
      "thriftpy2-0.4.11     | 368 KB    | ##################################### | 100% \n",
      "Preparing transaction: done\n",
      "Verifying transaction: done\n",
      "Executing transaction: done\n"
     ]
    }
   ],
   "source": [
    "! conda install -c conda-forge -y happybase"
   ]
  },
  {
   "cell_type": "code",
   "execution_count": 1,
   "metadata": {},
   "outputs": [],
   "source": [
    "# imports\n",
    "import happybase\n",
    "\n"
   ]
  },
  {
   "cell_type": "code",
   "execution_count": 2,
   "metadata": {},
   "outputs": [],
   "source": [
    "# try to connect\n",
    "server=\"ec2-3-250-8-167.eu-west-1.compute.amazonaws.com\" #need to change this for every lab-session\n",
    "connection = happybase.Connection(server)"
   ]
  },
  {
   "cell_type": "code",
   "execution_count": 3,
   "metadata": {},
   "outputs": [
    {
     "name": "stdout",
     "output_type": "stream",
     "text": [
      "[b'lab3', b'mytable']\n"
     ]
    }
   ],
   "source": [
    "print(connection.tables())"
   ]
  },
  {
   "cell_type": "code",
   "execution_count": 4,
   "metadata": {},
   "outputs": [],
   "source": [
    "#connect to a table\n",
    "table = connection.table('lab3')"
   ]
  },
  {
   "cell_type": "code",
   "execution_count": 5,
   "metadata": {},
   "outputs": [
    {
     "data": {
      "text/plain": [
       "{b'family_1': {'name': b'family_1:',\n",
       "  'max_versions': 3,\n",
       "  'compression': b'NONE',\n",
       "  'in_memory': False,\n",
       "  'bloom_filter_type': b'NONE',\n",
       "  'bloom_filter_vector_size': 0,\n",
       "  'bloom_filter_nb_hashes': 0,\n",
       "  'block_cache_enabled': False,\n",
       "  'time_to_live': 2147483647},\n",
       " b'family_2': {'name': b'family_2:',\n",
       "  'max_versions': 3,\n",
       "  'compression': b'NONE',\n",
       "  'in_memory': False,\n",
       "  'bloom_filter_type': b'NONE',\n",
       "  'bloom_filter_vector_size': 0,\n",
       "  'bloom_filter_nb_hashes': 0,\n",
       "  'block_cache_enabled': False,\n",
       "  'time_to_live': 2147483647}}"
      ]
     },
     "execution_count": 5,
     "metadata": {},
     "output_type": "execute_result"
    }
   ],
   "source": [
    "#see column families\n",
    "table.families()"
   ]
  },
  {
   "cell_type": "code",
   "execution_count": 6,
   "metadata": {},
   "outputs": [],
   "source": [
    "#insert something\n",
    "table.put('row 6', {'family_1:col7': '17.33', 'family_1:col8': '344'})\n"
   ]
  },
  {
   "cell_type": "code",
   "execution_count": 7,
   "metadata": {},
   "outputs": [],
   "source": [
    "#read table\n",
    "res=table.scan()"
   ]
  },
  {
   "cell_type": "code",
   "execution_count": 8,
   "metadata": {},
   "outputs": [
    {
     "name": "stdout",
     "output_type": "stream",
     "text": [
      "b'row 1' {b'family_1:col1': b'5', b'family_1:col2': b'string'}\n",
      "b'row 2' {b'family_2:col1': b'5.564', b'family_2:col2': b'some text'}\n",
      "b'row 3' {b'family_2:col3': b'17.33', b'family_2:col4': b'5'}\n",
      "b'row 6' {b'family_1:col7': b'17.33', b'family_1:col8': b'344'}\n"
     ]
    }
   ],
   "source": [
    "for key,row in res:\n",
    "    print(key,row)"
   ]
  },
  {
   "cell_type": "markdown",
   "metadata": {},
   "source": [
    "# Ex 1\n",
    "Employee data in HBASE.\n",
    "* create a new table to hold the employee data -> use a distinct name, like ``user_id_employees``\n",
    "* How would you create the column families?\n",
    "* read data from ``employees.csv`` and put it into the table\n",
    "* use batch-processing to enter more than one entry per transaction\n",
    "* alter some entries of the table with ``timestamps``\n",
    "* perform some sample scans for the latest entries"
   ]
  },
  {
   "cell_type": "code",
   "execution_count": null,
   "metadata": {},
   "outputs": [],
   "source": []
  }
 ],
 "metadata": {
  "kernelspec": {
   "display_name": "Python 3",
   "language": "python",
   "name": "python3"
  },
  "language_info": {
   "codemirror_mode": {
    "name": "ipython",
    "version": 3
   },
   "file_extension": ".py",
   "mimetype": "text/x-python",
   "name": "python",
   "nbconvert_exporter": "python",
   "pygments_lexer": "ipython3",
   "version": "3.7.6"
  }
 },
 "nbformat": 4,
 "nbformat_minor": 4
}

{
  "cells": [
    {
      "cell_type": "markdown",
      "metadata": {
        "id": "W9P6Eg94IV50"
      },
      "source": [
        "# HBASE\n",
        "We use the *HappyBase* lib: https://happybase.readthedocs.io/en/latest/installation.html"
      ]
    },
    {
      "cell_type": "code",
      "execution_count": 11,
      "metadata": {
        "id": "aT5JaI29IV58",
        "outputId": "0a2ab11b-d99d-4a88-da06-6614eda636e7",
        "colab": {
          "base_uri": "https://localhost:8080/"
        }
      },
      "outputs": [
        {
          "output_type": "stream",
          "name": "stdout",
          "text": [
            "Requirement already satisfied: happybase in /usr/local/lib/python3.7/dist-packages (1.2.0)\n",
            "Requirement already satisfied: six in /usr/local/lib/python3.7/dist-packages (from happybase) (1.15.0)\n",
            "Requirement already satisfied: thriftpy2>=0.4 in /usr/local/lib/python3.7/dist-packages (from happybase) (0.4.14)\n",
            "Requirement already satisfied: ply<4.0,>=3.4 in /usr/local/lib/python3.7/dist-packages (from thriftpy2>=0.4->happybase) (3.11)\n"
          ]
        }
      ],
      "source": [
        "! pip install happybase"
      ]
    },
    {
      "cell_type": "code",
      "execution_count": 12,
      "metadata": {
        "id": "ozEXPj6JIV6A"
      },
      "outputs": [],
      "source": [
        "# imports\n",
        "import happybase\n",
        "\n"
      ]
    },
    {
      "cell_type": "code",
      "execution_count": 18,
      "metadata": {
        "id": "8tTCd6QyIV6B"
      },
      "outputs": [],
      "source": [
        "# try to connect\n",
        "server=\"ec2-54-155-223-96.eu-west-1.compute.amazonaws.com\" #need to change this for every lab-session\n",
        "connection = happybase.Connection(server)"
      ]
    },
    {
      "cell_type": "code",
      "execution_count": 19,
      "metadata": {
        "id": "Evx_ZUXPIV6C",
        "outputId": "b20f9654-8a9a-453d-cb68-19c01e1ee209",
        "colab": {
          "base_uri": "https://localhost:8080/"
        }
      },
      "outputs": [
        {
          "output_type": "stream",
          "name": "stdout",
          "text": [
            "[b'mytable']\n"
          ]
        }
      ],
      "source": [
        "print(connection.tables())"
      ]
    },
    {
      "cell_type": "code",
      "execution_count": 20,
      "metadata": {
        "id": "PtyKqJgJIV6D"
      },
      "outputs": [],
      "source": [
        "#connect to a table\n",
        "table = connection.table('mytable')"
      ]
    },
    {
      "cell_type": "code",
      "execution_count": 21,
      "metadata": {
        "id": "MZgfkFi3IV6E",
        "outputId": "bf436d5f-dcbc-4dfc-a1b3-a42a9370d7f7",
        "colab": {
          "base_uri": "https://localhost:8080/"
        }
      },
      "outputs": [
        {
          "output_type": "execute_result",
          "data": {
            "text/plain": [
              "{b'cf': {'block_cache_enabled': False,\n",
              "  'bloom_filter_nb_hashes': 0,\n",
              "  'bloom_filter_type': b'NONE',\n",
              "  'bloom_filter_vector_size': 0,\n",
              "  'compression': b'NONE',\n",
              "  'in_memory': False,\n",
              "  'max_versions': 3,\n",
              "  'name': b'cf:',\n",
              "  'time_to_live': 2147483647}}"
            ]
          },
          "metadata": {},
          "execution_count": 21
        }
      ],
      "source": [
        "#see column families\n",
        "table.families()"
      ]
    },
    {
      "cell_type": "code",
      "execution_count": 23,
      "metadata": {
        "id": "nlC3npCIIV6G"
      },
      "outputs": [],
      "source": [
        "#read table\n",
        "res=table.scan()"
      ]
    },
    {
      "cell_type": "code",
      "execution_count": 24,
      "metadata": {
        "id": "fvZPdS6PIV6H"
      },
      "outputs": [],
      "source": [
        "for key,row in res:\n",
        "    print(key,row)"
      ]
    },
    {
      "cell_type": "markdown",
      "metadata": {
        "id": "LPj3cY8bIV6J"
      },
      "source": [
        "# Ex 1\n",
        "Employee data in HBASE.\n",
        "* create a new table to hold the employee data -> use a distinct name, like ``user_id_employees``\n",
        "* How would you create the column families?\n",
        "* read data from ``employees.csv`` and put it into the table\n",
        "* use batch-processing to enter more than one entry per transaction\n",
        "* alter some entries of the table with ``timestamps``\n",
        "* perform some sample scans for the latest entries"
      ]
    },
    {
      "cell_type": "code",
      "execution_count": null,
      "metadata": {
        "id": "lpQMIdWDIV6K"
      },
      "outputs": [],
      "source": [
        ""
      ]
    }
  ],
  "metadata": {
    "kernelspec": {
      "display_name": "Python 3",
      "language": "python",
      "name": "python3"
    },
    "language_info": {
      "codemirror_mode": {
        "name": "ipython",
        "version": 3
      },
      "file_extension": ".py",
      "mimetype": "text/x-python",
      "name": "python",
      "nbconvert_exporter": "python",
      "pygments_lexer": "ipython3",
      "version": "3.7.6"
    },
    "colab": {
      "name": "Assignment_HBASE.ipynb",
      "provenance": []
    }
  },
  "nbformat": 4,
  "nbformat_minor": 0
}
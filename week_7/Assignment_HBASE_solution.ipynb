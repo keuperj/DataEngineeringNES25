{
  "cells": [
    {
      "cell_type": "markdown",
      "metadata": {
        "id": "W9P6Eg94IV50"
      },
      "source": [
        "# HBASE\n",
        "We use the *HappyBase* lib: https://happybase.readthedocs.io/en/latest/installation.html"
      ]
    },
    {
      "cell_type": "code",
      "execution_count": 1,
      "metadata": {
        "id": "aT5JaI29IV58",
        "outputId": "70681840-b883-4ee0-9723-09f99dbb0e14",
        "colab": {
          "base_uri": "https://localhost:8080/"
        }
      },
      "outputs": [
        {
          "output_type": "stream",
          "name": "stdout",
          "text": [
            "Collecting happybase\n",
            "  Downloading happybase-1.2.0.tar.gz (40 kB)\n",
            "\u001b[K     |████████████████████████████████| 40 kB 2.1 MB/s \n",
            "\u001b[?25hRequirement already satisfied: six in /usr/local/lib/python3.7/dist-packages (from happybase) (1.15.0)\n",
            "Collecting thriftpy2>=0.4\n",
            "  Downloading thriftpy2-0.4.14.tar.gz (361 kB)\n",
            "\u001b[K     |████████████████████████████████| 361 kB 8.5 MB/s \n",
            "\u001b[?25hCollecting ply<4.0,>=3.4\n",
            "  Downloading ply-3.11-py2.py3-none-any.whl (49 kB)\n",
            "\u001b[K     |████████████████████████████████| 49 kB 5.2 MB/s \n",
            "\u001b[?25hBuilding wheels for collected packages: happybase, thriftpy2\n",
            "  Building wheel for happybase (setup.py) ... \u001b[?25l\u001b[?25hdone\n",
            "  Created wheel for happybase: filename=happybase-1.2.0-py2.py3-none-any.whl size=26623 sha256=7272fb66b68ad896e9741458026a0e000a1fd5b66d86993279ae1a41d59d84d1\n",
            "  Stored in directory: /root/.cache/pip/wheels/66/63/48/437f79a3724a4a529830f87d766a7d34228d623e845de2c321\n",
            "  Building wheel for thriftpy2 (setup.py) ... \u001b[?25l\u001b[?25hdone\n",
            "  Created wheel for thriftpy2: filename=thriftpy2-0.4.14-cp37-cp37m-linux_x86_64.whl size=944449 sha256=1d5c0fbd22fae150e0c605a5c47a2f0d25374ffca67f2cbdbb94a5458e61f711\n",
            "  Stored in directory: /root/.cache/pip/wheels/2a/f5/49/9c0d851aa64b58db72883cf9393cc824d536bdf13f5c83cff4\n",
            "Successfully built happybase thriftpy2\n",
            "Installing collected packages: ply, thriftpy2, happybase\n",
            "Successfully installed happybase-1.2.0 ply-3.11 thriftpy2-0.4.14\n"
          ]
        }
      ],
      "source": [
        "! pip install happybase"
      ]
    },
    {
      "cell_type": "code",
      "execution_count": 2,
      "metadata": {
        "id": "ozEXPj6JIV6A"
      },
      "outputs": [],
      "source": [
        "# imports\n",
        "import happybase\n",
        "\n"
      ]
    },
    {
      "cell_type": "code",
      "execution_count": 31,
      "metadata": {
        "id": "8tTCd6QyIV6B"
      },
      "outputs": [],
      "source": [
        "# try to connect\n",
        "server=\"ec2-54-155-223-96.eu-west-1.compute.amazonaws.com\" #need to change this for every lab-session\n",
        "connection = happybase.Connection(server)"
      ]
    },
    {
      "cell_type": "code",
      "execution_count": 4,
      "metadata": {
        "id": "Evx_ZUXPIV6C",
        "outputId": "69a7c34d-360e-42f5-ecfa-c13d0e07d188",
        "colab": {
          "base_uri": "https://localhost:8080/"
        }
      },
      "outputs": [
        {
          "output_type": "stream",
          "name": "stdout",
          "text": [
            "[b'mytable']\n"
          ]
        }
      ],
      "source": [
        "print(connection.tables())"
      ]
    },
    {
      "cell_type": "code",
      "execution_count": 5,
      "metadata": {
        "id": "PtyKqJgJIV6D"
      },
      "outputs": [],
      "source": [
        "#connect to a table\n",
        "table = connection.table('mytable')"
      ]
    },
    {
      "cell_type": "code",
      "execution_count": 6,
      "metadata": {
        "id": "MZgfkFi3IV6E",
        "outputId": "49dbd57e-025a-45a5-940a-646d67836f34",
        "colab": {
          "base_uri": "https://localhost:8080/"
        }
      },
      "outputs": [
        {
          "output_type": "execute_result",
          "data": {
            "text/plain": [
              "{b'cf': {'block_cache_enabled': False,\n",
              "  'bloom_filter_nb_hashes': 0,\n",
              "  'bloom_filter_type': b'NONE',\n",
              "  'bloom_filter_vector_size': 0,\n",
              "  'compression': b'NONE',\n",
              "  'in_memory': False,\n",
              "  'max_versions': 3,\n",
              "  'name': b'cf:',\n",
              "  'time_to_live': 2147483647}}"
            ]
          },
          "metadata": {},
          "execution_count": 6
        }
      ],
      "source": [
        "#see column families\n",
        "table.families()"
      ]
    },
    {
      "cell_type": "code",
      "execution_count": 7,
      "metadata": {
        "id": "nlC3npCIIV6G"
      },
      "outputs": [],
      "source": [
        "#read table\n",
        "res=table.scan()"
      ]
    },
    {
      "cell_type": "code",
      "execution_count": 8,
      "metadata": {
        "id": "fvZPdS6PIV6H"
      },
      "outputs": [],
      "source": [
        "for key,row in res:\n",
        "    print(key,row)"
      ]
    },
    {
      "cell_type": "markdown",
      "metadata": {
        "id": "LPj3cY8bIV6J"
      },
      "source": [
        "# Ex 1\n",
        "Employee data in HBASE.\n",
        "* create a new table to hold the employee data -> use a distinct name, like ``user_id_employees``\n",
        "* How would you create the column families?\n",
        "* read data from ``employees.csv`` and put it into the table\n",
        "* use batch-processing to enter more than one entry per transaction\n",
        "* alter some entries of the table with ``timestamps``\n",
        "* perform some sample scans for the latest entries"
      ]
    },
    {
      "cell_type": "code",
      "execution_count": 32,
      "metadata": {
        "id": "lpQMIdWDIV6K"
      },
      "outputs": [],
      "source": [
        "connection.create_table(\n",
        "    '1843_employees',\n",
        "    {'name': dict(),\n",
        "     'other': dict()\n",
        "    }\n",
        ")\n",
        "table = connection.table('1843_employees')"
      ]
    },
    {
      "cell_type": "code",
      "source": [
        "import pandas as pd\n",
        "\n",
        "df = pd.read_csv('/content/employees.csv',header=None);\n",
        "df"
      ],
      "metadata": {
        "id": "6kt46qm195ig",
        "outputId": "7ffc758f-f962-440a-f9f6-2932684f1707",
        "colab": {
          "base_uri": "https://localhost:8080/",
          "height": 424
        }
      },
      "execution_count": 33,
      "outputs": [
        {
          "output_type": "execute_result",
          "data": {
            "text/plain": [
              "             0             1            2           3    4             5\n",
              "0        10001  '1953-09-02'     'Georgi'   'Facello'  'M'  '1986-06-26'\n",
              "1        10002  '1964-06-02'    'Bezalel'    'Simmel'  'F'  '1985-11-21'\n",
              "2        10003  '1959-12-03'      'Parto'   'Bamford'  'M'  '1986-08-28'\n",
              "3        10004  '1954-05-01'  'Chirstian'   'Koblick'  'M'  '1986-12-01'\n",
              "4        10005  '1955-01-21'    'Kyoichi'  'Maliniak'  'M'  '1989-09-12'\n",
              "...        ...           ...          ...         ...  ...           ...\n",
              "300019  499995  '1958-09-24'     'Dekang'  'Lichtner'  'F'  '1993-01-12'\n",
              "300020  499996  '1953-03-07'       'Zito'      'Baaz'  'M'  '1990-09-27'\n",
              "300021  499997  '1961-08-03'    'Berhard'    'Lenart'  'M'  '1986-04-21'\n",
              "300022  499998  '1956-09-05'   'Patricia'   'Breugel'  'M'  '1993-10-13'\n",
              "300023  499999  '1958-05-01'     'Sachin'   'Tsukuda'  'M'  '1997-11-30'\n",
              "\n",
              "[300024 rows x 6 columns]"
            ],
            "text/html": [
              "\n",
              "  <div id=\"df-ab5a21e8-e778-40e9-8b2f-75ec58cf8426\">\n",
              "    <div class=\"colab-df-container\">\n",
              "      <div>\n",
              "<style scoped>\n",
              "    .dataframe tbody tr th:only-of-type {\n",
              "        vertical-align: middle;\n",
              "    }\n",
              "\n",
              "    .dataframe tbody tr th {\n",
              "        vertical-align: top;\n",
              "    }\n",
              "\n",
              "    .dataframe thead th {\n",
              "        text-align: right;\n",
              "    }\n",
              "</style>\n",
              "<table border=\"1\" class=\"dataframe\">\n",
              "  <thead>\n",
              "    <tr style=\"text-align: right;\">\n",
              "      <th></th>\n",
              "      <th>0</th>\n",
              "      <th>1</th>\n",
              "      <th>2</th>\n",
              "      <th>3</th>\n",
              "      <th>4</th>\n",
              "      <th>5</th>\n",
              "    </tr>\n",
              "  </thead>\n",
              "  <tbody>\n",
              "    <tr>\n",
              "      <th>0</th>\n",
              "      <td>10001</td>\n",
              "      <td>'1953-09-02'</td>\n",
              "      <td>'Georgi'</td>\n",
              "      <td>'Facello'</td>\n",
              "      <td>'M'</td>\n",
              "      <td>'1986-06-26'</td>\n",
              "    </tr>\n",
              "    <tr>\n",
              "      <th>1</th>\n",
              "      <td>10002</td>\n",
              "      <td>'1964-06-02'</td>\n",
              "      <td>'Bezalel'</td>\n",
              "      <td>'Simmel'</td>\n",
              "      <td>'F'</td>\n",
              "      <td>'1985-11-21'</td>\n",
              "    </tr>\n",
              "    <tr>\n",
              "      <th>2</th>\n",
              "      <td>10003</td>\n",
              "      <td>'1959-12-03'</td>\n",
              "      <td>'Parto'</td>\n",
              "      <td>'Bamford'</td>\n",
              "      <td>'M'</td>\n",
              "      <td>'1986-08-28'</td>\n",
              "    </tr>\n",
              "    <tr>\n",
              "      <th>3</th>\n",
              "      <td>10004</td>\n",
              "      <td>'1954-05-01'</td>\n",
              "      <td>'Chirstian'</td>\n",
              "      <td>'Koblick'</td>\n",
              "      <td>'M'</td>\n",
              "      <td>'1986-12-01'</td>\n",
              "    </tr>\n",
              "    <tr>\n",
              "      <th>4</th>\n",
              "      <td>10005</td>\n",
              "      <td>'1955-01-21'</td>\n",
              "      <td>'Kyoichi'</td>\n",
              "      <td>'Maliniak'</td>\n",
              "      <td>'M'</td>\n",
              "      <td>'1989-09-12'</td>\n",
              "    </tr>\n",
              "    <tr>\n",
              "      <th>...</th>\n",
              "      <td>...</td>\n",
              "      <td>...</td>\n",
              "      <td>...</td>\n",
              "      <td>...</td>\n",
              "      <td>...</td>\n",
              "      <td>...</td>\n",
              "    </tr>\n",
              "    <tr>\n",
              "      <th>300019</th>\n",
              "      <td>499995</td>\n",
              "      <td>'1958-09-24'</td>\n",
              "      <td>'Dekang'</td>\n",
              "      <td>'Lichtner'</td>\n",
              "      <td>'F'</td>\n",
              "      <td>'1993-01-12'</td>\n",
              "    </tr>\n",
              "    <tr>\n",
              "      <th>300020</th>\n",
              "      <td>499996</td>\n",
              "      <td>'1953-03-07'</td>\n",
              "      <td>'Zito'</td>\n",
              "      <td>'Baaz'</td>\n",
              "      <td>'M'</td>\n",
              "      <td>'1990-09-27'</td>\n",
              "    </tr>\n",
              "    <tr>\n",
              "      <th>300021</th>\n",
              "      <td>499997</td>\n",
              "      <td>'1961-08-03'</td>\n",
              "      <td>'Berhard'</td>\n",
              "      <td>'Lenart'</td>\n",
              "      <td>'M'</td>\n",
              "      <td>'1986-04-21'</td>\n",
              "    </tr>\n",
              "    <tr>\n",
              "      <th>300022</th>\n",
              "      <td>499998</td>\n",
              "      <td>'1956-09-05'</td>\n",
              "      <td>'Patricia'</td>\n",
              "      <td>'Breugel'</td>\n",
              "      <td>'M'</td>\n",
              "      <td>'1993-10-13'</td>\n",
              "    </tr>\n",
              "    <tr>\n",
              "      <th>300023</th>\n",
              "      <td>499999</td>\n",
              "      <td>'1958-05-01'</td>\n",
              "      <td>'Sachin'</td>\n",
              "      <td>'Tsukuda'</td>\n",
              "      <td>'M'</td>\n",
              "      <td>'1997-11-30'</td>\n",
              "    </tr>\n",
              "  </tbody>\n",
              "</table>\n",
              "<p>300024 rows × 6 columns</p>\n",
              "</div>\n",
              "      <button class=\"colab-df-convert\" onclick=\"convertToInteractive('df-ab5a21e8-e778-40e9-8b2f-75ec58cf8426')\"\n",
              "              title=\"Convert this dataframe to an interactive table.\"\n",
              "              style=\"display:none;\">\n",
              "        \n",
              "  <svg xmlns=\"http://www.w3.org/2000/svg\" height=\"24px\"viewBox=\"0 0 24 24\"\n",
              "       width=\"24px\">\n",
              "    <path d=\"M0 0h24v24H0V0z\" fill=\"none\"/>\n",
              "    <path d=\"M18.56 5.44l.94 2.06.94-2.06 2.06-.94-2.06-.94-.94-2.06-.94 2.06-2.06.94zm-11 1L8.5 8.5l.94-2.06 2.06-.94-2.06-.94L8.5 2.5l-.94 2.06-2.06.94zm10 10l.94 2.06.94-2.06 2.06-.94-2.06-.94-.94-2.06-.94 2.06-2.06.94z\"/><path d=\"M17.41 7.96l-1.37-1.37c-.4-.4-.92-.59-1.43-.59-.52 0-1.04.2-1.43.59L10.3 9.45l-7.72 7.72c-.78.78-.78 2.05 0 2.83L4 21.41c.39.39.9.59 1.41.59.51 0 1.02-.2 1.41-.59l7.78-7.78 2.81-2.81c.8-.78.8-2.07 0-2.86zM5.41 20L4 18.59l7.72-7.72 1.47 1.35L5.41 20z\"/>\n",
              "  </svg>\n",
              "      </button>\n",
              "      \n",
              "  <style>\n",
              "    .colab-df-container {\n",
              "      display:flex;\n",
              "      flex-wrap:wrap;\n",
              "      gap: 12px;\n",
              "    }\n",
              "\n",
              "    .colab-df-convert {\n",
              "      background-color: #E8F0FE;\n",
              "      border: none;\n",
              "      border-radius: 50%;\n",
              "      cursor: pointer;\n",
              "      display: none;\n",
              "      fill: #1967D2;\n",
              "      height: 32px;\n",
              "      padding: 0 0 0 0;\n",
              "      width: 32px;\n",
              "    }\n",
              "\n",
              "    .colab-df-convert:hover {\n",
              "      background-color: #E2EBFA;\n",
              "      box-shadow: 0px 1px 2px rgba(60, 64, 67, 0.3), 0px 1px 3px 1px rgba(60, 64, 67, 0.15);\n",
              "      fill: #174EA6;\n",
              "    }\n",
              "\n",
              "    [theme=dark] .colab-df-convert {\n",
              "      background-color: #3B4455;\n",
              "      fill: #D2E3FC;\n",
              "    }\n",
              "\n",
              "    [theme=dark] .colab-df-convert:hover {\n",
              "      background-color: #434B5C;\n",
              "      box-shadow: 0px 1px 3px 1px rgba(0, 0, 0, 0.15);\n",
              "      filter: drop-shadow(0px 1px 2px rgba(0, 0, 0, 0.3));\n",
              "      fill: #FFFFFF;\n",
              "    }\n",
              "  </style>\n",
              "\n",
              "      <script>\n",
              "        const buttonEl =\n",
              "          document.querySelector('#df-ab5a21e8-e778-40e9-8b2f-75ec58cf8426 button.colab-df-convert');\n",
              "        buttonEl.style.display =\n",
              "          google.colab.kernel.accessAllowed ? 'block' : 'none';\n",
              "\n",
              "        async function convertToInteractive(key) {\n",
              "          const element = document.querySelector('#df-ab5a21e8-e778-40e9-8b2f-75ec58cf8426');\n",
              "          const dataTable =\n",
              "            await google.colab.kernel.invokeFunction('convertToInteractive',\n",
              "                                                     [key], {});\n",
              "          if (!dataTable) return;\n",
              "\n",
              "          const docLinkHtml = 'Like what you see? Visit the ' +\n",
              "            '<a target=\"_blank\" href=https://colab.research.google.com/notebooks/data_table.ipynb>data table notebook</a>'\n",
              "            + ' to learn more about interactive tables.';\n",
              "          element.innerHTML = '';\n",
              "          dataTable['output_type'] = 'display_data';\n",
              "          await google.colab.output.renderOutput(dataTable, element);\n",
              "          const docLink = document.createElement('div');\n",
              "          docLink.innerHTML = docLinkHtml;\n",
              "          element.appendChild(docLink);\n",
              "        }\n",
              "      </script>\n",
              "    </div>\n",
              "  </div>\n",
              "  "
            ]
          },
          "metadata": {},
          "execution_count": 33
        }
      ]
    },
    {
      "cell_type": "code",
      "source": [
        ""
      ],
      "metadata": {
        "id": "K6-sKkOCBcMB"
      },
      "execution_count": 33,
      "outputs": []
    },
    {
      "cell_type": "code",
      "source": [
        "for i,r in df.iterrows():\n",
        "  table.put(str(r[0]), {'name:first_name': r[1],\n",
        "                'name:last_name': r[2],\n",
        "               'other:gender':r[3],\n",
        "               'other:birthday':r[4]\n",
        "               })"
      ],
      "metadata": {
        "id": "Cwon5VaB_YCY"
      },
      "execution_count": null,
      "outputs": []
    },
    {
      "cell_type": "code",
      "source": [
        ""
      ],
      "metadata": {
        "id": "tGTqex-o_biq"
      },
      "execution_count": null,
      "outputs": []
    }
  ],
  "metadata": {
    "kernelspec": {
      "display_name": "Python 3",
      "language": "python",
      "name": "python3"
    },
    "language_info": {
      "codemirror_mode": {
        "name": "ipython",
        "version": 3
      },
      "file_extension": ".py",
      "mimetype": "text/x-python",
      "name": "python",
      "nbconvert_exporter": "python",
      "pygments_lexer": "ipython3",
      "version": "3.7.6"
    },
    "colab": {
      "name": "Assignment_HBASE.ipynb",
      "provenance": []
    }
  },
  "nbformat": 4,
  "nbformat_minor": 0
}